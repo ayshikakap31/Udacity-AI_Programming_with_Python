{
 "cells": [
  {
   "cell_type": "code",
   "execution_count": 28,
   "metadata": {},
   "outputs": [],
   "source": [
    "%matplotlib inline\n",
    "%config InlineBackend.figure_formaT = 'retina'\n",
    "\n",
    "from collections import OrderedDict\n",
    "\n",
    "import numpy as np\n",
    "import time\n",
    "import torch\n",
    "from torch import nn,optim\n",
    "import torch.nn.functional as F\n",
    "\n",
    "import matplotlib.pyplot as plt"
   ]
  },
  {
   "cell_type": "markdown",
   "metadata": {},
   "source": [
    "### Get the data and define the network"
   ]
  },
  {
   "cell_type": "code",
   "execution_count": 14,
   "metadata": {},
   "outputs": [],
   "source": [
    "from torchvision import datasets, transforms\n",
    "\n",
    "# Define a transform to normalize the data\n",
    "transform = transforms.Compose([transforms.ToTensor(),\n",
    "                                transforms.Normalize([0.5],[0.5]),\n",
    "                                ])\n",
    "\n",
    "# Download and load the training data\n",
    "trainset = datasets.MNIST('MNIST_data/', download=True, train=True, transform=transform)\n",
    "trainloader = torch.utils.data.DataLoader(trainset, batch_size=64, shuffle = True)"
   ]
  },
  {
   "cell_type": "markdown",
   "metadata": {},
   "source": [
    "The output from softmax is a probability distribution. Often, the output will have values really close to zero or really close to one. Due to inaccuracies with representing numbers as floating points, computations with a softmax output can lose accuracy and become unstable. To get around this, we'll use the raw output, called the $\\textbf{logits}$, to calculate the loss."
   ]
  },
  {
   "cell_type": "code",
   "execution_count": 15,
   "metadata": {},
   "outputs": [],
   "source": [
    "# Hyperparameters for our network\n",
    "input_size = 784\n",
    "hidden_size = [128, 64]\n",
    "output_size = 10\n",
    "\n",
    "# Build a feed-forward network\n",
    "model = nn.Sequential(OrderedDict([\n",
    "    ('fc1', nn.Linear(input_size, hidden_size[0])),\n",
    "    ('relu1', nn.ReLU()),\n",
    "    ('fc2', nn.Linear(hidden_size[0], hidden_size[1])),\n",
    "    ('relu2', nn.ReLU()),\n",
    "    ('logits', nn.Linear(hidden_size[1], output_size))\n",
    "]))"
   ]
  },
  {
   "cell_type": "markdown",
   "metadata": {},
   "source": [
    "### Training the network!"
   ]
  },
  {
   "cell_type": "code",
   "execution_count": 16,
   "metadata": {},
   "outputs": [],
   "source": [
    "# Defining loss function and optimizer\n",
    "criterion = nn.CrossEntropyLoss()\n",
    "optimizer = optim.SGD(model.parameters(), lr=0.01)"
   ]
  },
  {
   "cell_type": "code",
   "execution_count": 17,
   "metadata": {},
   "outputs": [
    {
     "name": "stdout",
     "output_type": "stream",
     "text": [
      "Initial weights :  Parameter containing:\n",
      "tensor([[-0.0284, -0.0135, -0.0004,  ...,  0.0342,  0.0188,  0.0227],\n",
      "        [ 0.0196, -0.0092, -0.0024,  ..., -0.0029,  0.0324, -0.0094],\n",
      "        [-0.0028,  0.0209,  0.0064,  ..., -0.0167,  0.0315,  0.0193],\n",
      "        ...,\n",
      "        [ 0.0298, -0.0166,  0.0241,  ..., -0.0330, -0.0355, -0.0234],\n",
      "        [ 0.0239,  0.0216,  0.0340,  ..., -0.0053,  0.0048, -0.0318],\n",
      "        [-0.0332,  0.0289, -0.0229,  ...,  0.0335, -0.0112,  0.0198]],\n",
      "       requires_grad=True)\n",
      "Gradient:  tensor([[ 0.0000e+00,  0.0000e+00,  0.0000e+00,  ...,  0.0000e+00,\n",
      "          0.0000e+00,  0.0000e+00],\n",
      "        [-3.2538e-03, -3.2538e-03, -3.2538e-03,  ..., -3.2538e-03,\n",
      "         -3.2538e-03, -3.2538e-03],\n",
      "        [-1.1678e-03, -1.1678e-03, -1.1678e-03,  ..., -1.1678e-03,\n",
      "         -1.1678e-03, -1.1678e-03],\n",
      "        ...,\n",
      "        [ 2.9312e-03,  2.9312e-03,  2.9312e-03,  ...,  2.9312e-03,\n",
      "          2.9312e-03,  2.9312e-03],\n",
      "        [ 4.2130e-04,  4.2130e-04,  4.2130e-04,  ...,  4.2130e-04,\n",
      "          4.2130e-04,  4.2130e-04],\n",
      "        [-2.9255e-05, -2.9255e-05, -2.9255e-05,  ..., -2.9255e-05,\n",
      "         -2.9255e-05, -2.9255e-05]])\n",
      "Updated weights:  Parameter containing:\n",
      "tensor([[-0.0284, -0.0135, -0.0004,  ...,  0.0342,  0.0188,  0.0227],\n",
      "        [ 0.0197, -0.0092, -0.0023,  ..., -0.0028,  0.0324, -0.0094],\n",
      "        [-0.0028,  0.0209,  0.0065,  ..., -0.0167,  0.0315,  0.0193],\n",
      "        ...,\n",
      "        [ 0.0298, -0.0166,  0.0241,  ..., -0.0330, -0.0355, -0.0234],\n",
      "        [ 0.0238,  0.0216,  0.0340,  ..., -0.0053,  0.0048, -0.0319],\n",
      "        [-0.0332,  0.0289, -0.0229,  ...,  0.0335, -0.0112,  0.0198]],\n",
      "       requires_grad=True)\n"
     ]
    }
   ],
   "source": [
    "# Try for one learning step before applying on all data.\n",
    "print('Initial weights : ', model.fc1.weight)\n",
    "\n",
    "images, labels = next(iter(trainloader))\n",
    "images.resize_(64, 784)\n",
    "\n",
    "# Clear the gradients\n",
    "optimizer.zero_grad()\n",
    "\n",
    "# Forward pass, then backward pass, then update weights\n",
    "output = model.forward(images)\n",
    "loss = criterion(output, labels)\n",
    "loss.backward()\n",
    "print('Gradient: ', model.fc1.weight.grad)\n",
    "optimizer.step()\n",
    "\n",
    "print('Updated weights: ', model.fc1.weight)"
   ]
  },
  {
   "cell_type": "markdown",
   "metadata": {},
   "source": [
    "### Training for whole data"
   ]
  },
  {
   "cell_type": "code",
   "execution_count": 18,
   "metadata": {},
   "outputs": [],
   "source": [
    "optimizer = optim.SGD(model.parameters(), lr = 0.003)"
   ]
  },
  {
   "cell_type": "code",
   "execution_count": 20,
   "metadata": {},
   "outputs": [
    {
     "name": "stdout",
     "output_type": "stream",
     "text": [
      "Epoch: 1/3... Loss: 2.2898\n",
      "Epoch: 1/3... Loss: 2.2714\n",
      "Epoch: 1/3... Loss: 2.2489\n",
      "Epoch: 1/3... Loss: 2.2350\n",
      "Epoch: 1/3... Loss: 2.2108\n",
      "Epoch: 1/3... Loss: 2.1894\n",
      "Epoch: 1/3... Loss: 2.1667\n",
      "Epoch: 1/3... Loss: 2.1271\n",
      "Epoch: 1/3... Loss: 2.1020\n",
      "Epoch: 1/3... Loss: 2.0712\n",
      "Epoch: 1/3... Loss: 2.0205\n",
      "Epoch: 1/3... Loss: 1.9731\n",
      "Epoch: 1/3... Loss: 1.9326\n",
      "Epoch: 1/3... Loss: 1.8758\n",
      "Epoch: 1/3... Loss: 1.8215\n",
      "Epoch: 1/3... Loss: 1.7581\n",
      "Epoch: 1/3... Loss: 1.6905\n",
      "Epoch: 1/3... Loss: 1.6481\n",
      "Epoch: 1/3... Loss: 1.5768\n",
      "Epoch: 1/3... Loss: 1.5114\n",
      "Epoch: 1/3... Loss: 1.4506\n",
      "Epoch: 1/3... Loss: 1.3935\n",
      "Epoch: 1/3... Loss: 1.3335\n",
      "Epoch: 2/3... Loss: 0.6991\n",
      "Epoch: 2/3... Loss: 1.1962\n",
      "Epoch: 2/3... Loss: 1.1639\n",
      "Epoch: 2/3... Loss: 1.0897\n",
      "Epoch: 2/3... Loss: 1.0828\n",
      "Epoch: 2/3... Loss: 1.0370\n",
      "Epoch: 2/3... Loss: 0.9952\n",
      "Epoch: 2/3... Loss: 0.9420\n",
      "Epoch: 2/3... Loss: 0.9036\n",
      "Epoch: 2/3... Loss: 0.8864\n",
      "Epoch: 2/3... Loss: 0.8595\n",
      "Epoch: 2/3... Loss: 0.8237\n",
      "Epoch: 2/3... Loss: 0.7965\n",
      "Epoch: 2/3... Loss: 0.7626\n",
      "Epoch: 2/3... Loss: 0.7700\n",
      "Epoch: 2/3... Loss: 0.7702\n",
      "Epoch: 2/3... Loss: 0.7048\n",
      "Epoch: 2/3... Loss: 0.7269\n",
      "Epoch: 2/3... Loss: 0.6992\n",
      "Epoch: 2/3... Loss: 0.6979\n",
      "Epoch: 2/3... Loss: 0.6557\n",
      "Epoch: 2/3... Loss: 0.6344\n",
      "Epoch: 2/3... Loss: 0.6366\n",
      "Epoch: 3/3... Loss: 0.0640\n",
      "Epoch: 3/3... Loss: 0.6196\n",
      "Epoch: 3/3... Loss: 0.5740\n",
      "Epoch: 3/3... Loss: 0.5955\n",
      "Epoch: 3/3... Loss: 0.5786\n",
      "Epoch: 3/3... Loss: 0.5684\n",
      "Epoch: 3/3... Loss: 0.5771\n",
      "Epoch: 3/3... Loss: 0.5485\n",
      "Epoch: 3/3... Loss: 0.5624\n",
      "Epoch: 3/3... Loss: 0.5526\n",
      "Epoch: 3/3... Loss: 0.5428\n",
      "Epoch: 3/3... Loss: 0.5381\n",
      "Epoch: 3/3... Loss: 0.5069\n",
      "Epoch: 3/3... Loss: 0.5252\n",
      "Epoch: 3/3... Loss: 0.5435\n",
      "Epoch: 3/3... Loss: 0.4989\n",
      "Epoch: 3/3... Loss: 0.4636\n",
      "Epoch: 3/3... Loss: 0.5256\n",
      "Epoch: 3/3... Loss: 0.5080\n",
      "Epoch: 3/3... Loss: 0.4831\n",
      "Epoch: 3/3... Loss: 0.4838\n",
      "Epoch: 3/3... Loss: 0.4948\n",
      "Epoch: 3/3... Loss: 0.4565\n",
      "Epoch: 3/3... Loss: 0.4756\n"
     ]
    }
   ],
   "source": [
    "epochs = 3\n",
    "print_every = 40\n",
    "steps = 0\n",
    "\n",
    "for e in range(epochs):\n",
    "    running_loss = 0\n",
    "    for images, labels in iter(trainloader):\n",
    "        steps += 1\n",
    "        # Flatten MNIST images into a 784 long vector\n",
    "        images.resize_(images.size()[0], 784)\n",
    "\n",
    "        optimizer.zero_grad()\n",
    "\n",
    "        # Forward and backward passes\n",
    "        output = model.forward(images)\n",
    "        loss = criterion(output, labels)\n",
    "        loss.backward()\n",
    "        optimizer.step()\n",
    "\n",
    "        running_loss += loss.item()\n",
    "\n",
    "        if steps%print_every == 0:\n",
    "            print('Epoch: {}/{}...'.format(e+1, epochs),\n",
    "                  'Loss: {:.4f}'.format(running_loss/print_every))\n",
    "            \n",
    "            running_loss = 0"
   ]
  },
  {
   "cell_type": "code",
   "execution_count": 29,
   "metadata": {},
   "outputs": [
    {
     "data": {
      "image/png": "[encoded data removed]",
      "text/plain": [
       "<Figure size 600x900 with 2 Axes>"
      ]
     },
     "metadata": {},
     "output_type": "display_data"
    }
   ],
   "source": [
    "# To check out prediction using trained network\n",
    "images, labels = next(iter(trainloader))\n",
    "\n",
    "img = images[0].view(1,784)\n",
    "# Turn off gradients to speed up the process\n",
    "with torch.no_grad():\n",
    "    logits = model.forward(img)\n",
    "\n",
    "# Output of the network are logits, need to take softmax for probabilities\n",
    "ps = F.softmax(logits, dim=1)\n",
    "def view_classify(img, ps, classes=None):\n",
    "    \"\"\"Function to visualize an image and its predicted probabilities.\n",
    "    \n",
    "    Parameters:\n",
    "    - img: PyTorch tensor of the image, reshaped to (1, 28, 28).\n",
    "    - ps: Probability scores for each class.\n",
    "    - classes: Optional list of class names.\n",
    "    \"\"\"\n",
    "    # Convert the PyTorch tensor to a numpy array and squeeze to remove the batch dimension\n",
    "    img = img.numpy().squeeze()\n",
    "    \n",
    "    # Convert the probabilities tensor to a numpy array\n",
    "    ps = ps.detach().numpy().squeeze()\n",
    "\n",
    "    # Create a figure with two subplots: one for the image and one for the probabilities\n",
    "    fig, (ax1, ax2) = plt.subplots(figsize=(6,9), nrows=2)\n",
    "    \n",
    "    # Display the image on the first subplot\n",
    "    ax1.imshow(img, cmap='gray')\n",
    "    ax1.axis('off')  # Turn off axis\n",
    "    \n",
    "    # Display the probability distribution as a bar chart\n",
    "    ax2.barh(np.arange(len(ps)), ps)\n",
    "    if classes is not None:\n",
    "        ax2.set_yticks(np.arange(len(classes)))\n",
    "        ax2.set_yticklabels(classes)\n",
    "    else:\n",
    "        ax2.set_yticks(np.arange(len(ps)))\n",
    "    ax2.set_xlabel('Probability')\n",
    "    ax2.set_xlim(0, 1)\n",
    "\n",
    "    plt.show()\n",
    "\n",
    "view_classify(img.view(1, 28, 28), ps, classes=[str(i) for i in range(10)])"
   ]
  }
 ],
 "metadata": {
  "kernelspec": {
   "display_name": "torch_env",
   "language": "python",
   "name": "python3"
  },
  "language_info": {
   "codemirror_mode": {
    "name": "ipython",
    "version": 3
   },
   "file_extension": ".py",
   "mimetype": "text/x-python",
   "name": "python",
   "nbconvert_exporter": "python",
   "pygments_lexer": "ipython3",
   "version": "3.10.14"
  }
 },
 "nbformat": 4,
 "nbformat_minor": 2
}
