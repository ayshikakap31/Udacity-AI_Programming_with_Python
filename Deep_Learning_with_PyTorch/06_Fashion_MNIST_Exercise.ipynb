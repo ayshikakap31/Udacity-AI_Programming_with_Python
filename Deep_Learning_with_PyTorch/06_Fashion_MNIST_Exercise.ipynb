{
 "cells": [
  {
   "cell_type": "markdown",
   "metadata": {},
   "source": [
    "# Classifying Fashion-MNIST\n",
    "\n",
    "Now it's your turn to build and train a neural network. You'll be using the [Fashion-MNIST dataset](https://github.com/zalandoresearch/fashion-mnist), a drop-in replacement for the MNIST dataset. MNIST is actually quite trivial with neural networks where you can easily achieve better than 97% accuracy. Fashion-MNIST is a set of 28x28 greyscale images of clothes. It's more complex than MNIST, so it's a better representation of the actual performance of your network, and a better representation of datasets you'll use in the real world.\n",
    "\n",
    "<img src='fashion-mnist-sprite.png' width=500px>\n",
    "\n",
    "In this notebook, you'll build your own neural network. For the most part, you could just copy and paste the code from Part 3, but you wouldn't be learning. It's important for you to write the code yourself and get it to work. Feel free to consult the previous notebook though as you work through this.\n",
    "\n",
    "First off, let's load the dataset through torchvision."
   ]
  },
  {
   "cell_type": "code",
   "execution_count": 1,
   "metadata": {},
   "outputs": [
    {
     "name": "stderr",
     "output_type": "stream",
     "text": [
      "c:\\Users\\User\\.conda\\envs\\torch_env\\lib\\site-packages\\tqdm\\auto.py:21: TqdmWarning: IProgress not found. Please update jupyter and ipywidgets. See https://ipywidgets.readthedocs.io/en/stable/user_install.html\n",
      "  from .autonotebook import tqdm as notebook_tqdm\n"
     ]
    }
   ],
   "source": [
    "import torch\n",
    "from torchvision import datasets, transforms\n",
    "\n",
    "# Define a transform to normalize the data\n",
    "transform = transforms.Compose([transforms.ToTensor(),\n",
    "                                transforms.Normalize([0.5], [0.5])])\n",
    "# Download and load the training data\n",
    "trainset = datasets.FashionMNIST('F_MNIST_data/', download=True, train=True, transform=transform)\n",
    "trainloader = torch.utils.data.DataLoader(trainset, batch_size=64, shuffle=True)\n",
    "\n",
    "# Download and load the test data\n",
    "testset = datasets.FashionMNIST('F_MNIST_data/', download=True, train=False, transform=transform)\n",
    "testloader = torch.utils.data.DataLoader(testset, batch_size=64, shuffle=True)"
   ]
  },
  {
   "cell_type": "markdown",
   "metadata": {},
   "source": [
    "With the data loaded, it's time to import the necessary packages."
   ]
  },
  {
   "cell_type": "code",
   "execution_count": 7,
   "metadata": {},
   "outputs": [],
   "source": [
    "%matplotlib inline\n",
    "%config InlineBackend.figure_format = 'retina'\n",
    "\n",
    "import matplotlib.pyplot as plt\n",
    "import numpy as np\n",
    "import time\n",
    "from collections import OrderedDict\n",
    "\n",
    "import torch\n",
    "from torch import nn\n",
    "from torch import optim\n",
    "import torch.nn.functional as F\n",
    "from torchvision import datasets, transforms\n",
    "import helper"
   ]
  },
  {
   "cell_type": "markdown",
   "metadata": {},
   "source": [
    "## Building the network\n",
    "\n",
    "Here you should define your network. As with MNIST, each image is 28x28 which is a total of 784 pixels, and there are 10 classes. You should include at least one hidden layer. We suggest you use ReLU activations for the layers and to return the logits from the forward pass. It's up to you how many layers you add and the size of those layers."
   ]
  },
  {
   "cell_type": "code",
   "execution_count": 15,
   "metadata": {},
   "outputs": [],
   "source": [
    "# TODO: Define your network architecture here\n",
    "input_size = 784\n",
    "hidden_size = [256, 128, 64]\n",
    "output_size = 10\n",
    "\n",
    "model = nn.Sequential(OrderedDict([\n",
    "    ('fc1', nn.Linear(input_size, hidden_size[0])),\n",
    "    ('relu1', nn.ReLU()),\n",
    "    ('fc2', nn.Linear(hidden_size[0], hidden_size[1])),\n",
    "    ('relu2', nn.ReLU()),\n",
    "    ('fc3', nn.Linear(hidden_size[1], hidden_size[2])),\n",
    "    ('relu3', nn.ReLU()),\n",
    "    ('logits', nn.Linear(hidden_size[2], output_size))\n",
    "]))"
   ]
  },
  {
   "cell_type": "markdown",
   "metadata": {},
   "source": [
    "# Train the network\n",
    "\n",
    "Now you should create your network and train it. First you'll want to define [the criterion](http://pytorch.org/docs/master/nn.html#loss-functions) ( something like `nn.CrossEntropyLoss`) and [the optimizer](http://pytorch.org/docs/master/optim.html) (typically `optim.SGD` or `optim.Adam`).\n",
    "\n",
    "Then write the training code. Remember the training pass is a fairly straightforward process:\n",
    "\n",
    "* Make a forward pass through the network to get the logits \n",
    "* Use the logits to calculate the loss\n",
    "* Perform a backward pass through the network with `loss.backward()` to calculate the gradients\n",
    "* Take a step with the optimizer to update the weights\n",
    "\n",
    "By adjusting the hyperparameters (hidden units, learning rate, etc), you should be able to get the training loss below 0.4."
   ]
  },
  {
   "cell_type": "code",
   "execution_count": 16,
   "metadata": {},
   "outputs": [],
   "source": [
    "# TODO: Create the network, define the criterion and optimizer\n",
    "criterion = nn.CrossEntropyLoss()\n",
    "optimizer = optim.SGD(model.parameters(), lr=0.01)"
   ]
  },
  {
   "cell_type": "code",
   "execution_count": 17,
   "metadata": {},
   "outputs": [
    {
     "name": "stdout",
     "output_type": "stream",
     "text": [
      "Epoch: 1/3... Loss: 2.2927\n",
      "Epoch: 1/3... Loss: 2.2685\n",
      "Epoch: 1/3... Loss: 2.2420\n",
      "Epoch: 1/3... Loss: 2.2038\n",
      "Epoch: 1/3... Loss: 2.1397\n",
      "Epoch: 1/3... Loss: 2.0277\n",
      "Epoch: 1/3... Loss: 1.8574\n",
      "Epoch: 1/3... Loss: 1.6870\n",
      "Epoch: 1/3... Loss: 1.5175\n",
      "Epoch: 1/3... Loss: 1.3651\n",
      "Epoch: 1/3... Loss: 1.2108\n",
      "Epoch: 1/3... Loss: 1.1191\n",
      "Epoch: 1/3... Loss: 1.0548\n",
      "Epoch: 1/3... Loss: 0.9804\n",
      "Epoch: 1/3... Loss: 0.9341\n",
      "Epoch: 1/3... Loss: 0.8662\n",
      "Epoch: 1/3... Loss: 0.8803\n",
      "Epoch: 1/3... Loss: 0.8173\n",
      "Epoch: 1/3... Loss: 0.7933\n",
      "Epoch: 1/3... Loss: 0.7707\n",
      "Epoch: 1/3... Loss: 0.7480\n",
      "Epoch: 1/3... Loss: 0.7131\n",
      "Epoch: 1/3... Loss: 0.7117\n",
      "Epoch: 2/3... Loss: 0.3928\n",
      "Epoch: 2/3... Loss: 0.7219\n",
      "Epoch: 2/3... Loss: 0.7038\n",
      "Epoch: 2/3... Loss: 0.6725\n",
      "Epoch: 2/3... Loss: 0.7137\n",
      "Epoch: 2/3... Loss: 0.6727\n",
      "Epoch: 2/3... Loss: 0.6560\n",
      "Epoch: 2/3... Loss: 0.6654\n",
      "Epoch: 2/3... Loss: 0.6455\n",
      "Epoch: 2/3... Loss: 0.6482\n",
      "Epoch: 2/3... Loss: 0.6229\n",
      "Epoch: 2/3... Loss: 0.6458\n",
      "Epoch: 2/3... Loss: 0.6062\n",
      "Epoch: 2/3... Loss: 0.6280\n",
      "Epoch: 2/3... Loss: 0.6164\n",
      "Epoch: 2/3... Loss: 0.6120\n",
      "Epoch: 2/3... Loss: 0.5721\n",
      "Epoch: 2/3... Loss: 0.5873\n",
      "Epoch: 2/3... Loss: 0.5688\n",
      "Epoch: 2/3... Loss: 0.5556\n",
      "Epoch: 2/3... Loss: 0.5805\n",
      "Epoch: 2/3... Loss: 0.5487\n",
      "Epoch: 2/3... Loss: 0.5651\n",
      "Epoch: 3/3... Loss: 0.0602\n",
      "Epoch: 3/3... Loss: 0.5592\n",
      "Epoch: 3/3... Loss: 0.5705\n",
      "Epoch: 3/3... Loss: 0.5080\n",
      "Epoch: 3/3... Loss: 0.5676\n",
      "Epoch: 3/3... Loss: 0.5486\n",
      "Epoch: 3/3... Loss: 0.5529\n",
      "Epoch: 3/3... Loss: 0.5232\n",
      "Epoch: 3/3... Loss: 0.5532\n",
      "Epoch: 3/3... Loss: 0.5509\n",
      "Epoch: 3/3... Loss: 0.5404\n",
      "Epoch: 3/3... Loss: 0.5105\n",
      "Epoch: 3/3... Loss: 0.5338\n",
      "Epoch: 3/3... Loss: 0.5367\n",
      "Epoch: 3/3... Loss: 0.5067\n",
      "Epoch: 3/3... Loss: 0.4935\n",
      "Epoch: 3/3... Loss: 0.5266\n",
      "Epoch: 3/3... Loss: 0.5189\n",
      "Epoch: 3/3... Loss: 0.5036\n",
      "Epoch: 3/3... Loss: 0.5268\n",
      "Epoch: 3/3... Loss: 0.5074\n",
      "Epoch: 3/3... Loss: 0.4708\n",
      "Epoch: 3/3... Loss: 0.5072\n",
      "Epoch: 3/3... Loss: 0.4819\n"
     ]
    }
   ],
   "source": [
    "# TODO: Train the network here\n",
    "epochs = 3\n",
    "print_every = 40\n",
    "steps = 0\n",
    "\n",
    "for e in range(epochs):\n",
    "    running_loss = 0\n",
    "    for images, labels in iter(trainloader):\n",
    "        steps += 1\n",
    "        # Flatten images into a vector\n",
    "        images.resize_(images.size()[0], 784)\n",
    "\n",
    "        optimizer.zero_grad()\n",
    "\n",
    "        output = model.forward(images)\n",
    "        loss = criterion(output, labels)\n",
    "        loss.backward()\n",
    "        optimizer.step()\n",
    "\n",
    "        running_loss += loss.item()\n",
    "\n",
    "        if steps%print_every == 0:\n",
    "            print('Epoch: {}/{}...'.format(e+1, epochs),\n",
    "                  'Loss: {:.4f}'.format(running_loss/print_every))\n",
    "            \n",
    "            running_loss = 0"
   ]
  },
  {
   "cell_type": "code",
   "execution_count": 18,
   "metadata": {},
   "outputs": [
    {
     "data": {
      "image/png": "[encoded data removed]",
      "text/plain": [
       "<Figure size 600x900 with 2 Axes>"
      ]
     },
     "metadata": {
      "image/png": {
       "height": 301,
       "width": 589
      }
     },
     "output_type": "display_data"
    }
   ],
   "source": [
    "# Test out your network!\n",
    "\n",
    "dataiter = iter(testloader)\n",
    "images, labels = dataiter.next()\n",
    "img = images[0]\n",
    "# Convert 2D image to 1D vector\n",
    "img = img.resize_(1, 784)\n",
    "\n",
    "# TODO: Calculate the class probabilities (softmax) for img\n",
    "# Turn off gradients to speed up this part\n",
    "with torch.no_grad():\n",
    "    logits = model.forward(img)\n",
    "\n",
    "ps = F.softmax(logits, dim=1)\n",
    "\n",
    "# Plot the image and probabilities\n",
    "helper.view_classify(img.resize_(1, 28, 28), ps, version='Fashion')"
   ]
  },
  {
   "cell_type": "markdown",
   "metadata": {},
   "source": [
    "Now that your network is trained, you'll want to save it to disk so you can load it later instead of training it again. Obviously, it's impractical to train a network every time you need one. In practice, you'll train it once, save the model, then reload it for further training or making predictions. In the next part, I'll show you how to save and load trained models."
   ]
  }
 ],
 "metadata": {
  "kernelspec": {
   "display_name": "Python 3",
   "language": "python",
   "name": "python3"
  },
  "language_info": {
   "codemirror_mode": {
    "name": "ipython",
    "version": 3
   },
   "file_extension": ".py",
   "mimetype": "text/x-python",
   "name": "python",
   "nbconvert_exporter": "python",
   "pygments_lexer": "ipython3",
   "version": "3.10.14"
  }
 },
 "nbformat": 4,
 "nbformat_minor": 2
}
