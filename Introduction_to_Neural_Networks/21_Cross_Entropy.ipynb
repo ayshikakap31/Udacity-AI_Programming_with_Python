{
 "cells": [
  {
   "cell_type": "markdown",
   "metadata": {},
   "source": [
    "## Cross Entropy function"
   ]
  },
  {
   "cell_type": "code",
   "execution_count": 7,
   "metadata": {},
   "outputs": [],
   "source": [
    "import numpy as np\n",
    "import math\n",
    "# Write a function that takes as input two lists Y, P,\n",
    "# and returns the float corresponding to their cross-entropy.\n",
    "\n",
    "np.random.seed(42)\n",
    "\n",
    "def cross_entropy(Y, P):\n",
    "    cross_entropy_sum = 0\n",
    "    for i in range(len(P)):\n",
    "        cross_entropy_sum += Y[i]*math.log(P[i]) + (1 - Y[i])*math.log(1-P[i])\n",
    "    return -cross_entropy_sum\n"
   ]
  },
  {
   "cell_type": "markdown",
   "metadata": {},
   "source": [
    "### Test the above function"
   ]
  },
  {
   "cell_type": "code",
   "execution_count": 12,
   "metadata": {},
   "outputs": [
    {
     "name": "stdout",
     "output_type": "stream",
     "text": [
      "The cross entropy is:  1.2031698751499662\n"
     ]
    }
   ],
   "source": [
    "Y = np.random.randint(0,2,3)\n",
    "P = np.random.random(size=3)\n",
    "print(\"The cross entropy is: \", cross_entropy(Y,P))"
   ]
  }
 ],
 "metadata": {
  "kernelspec": {
   "display_name": "base",
   "language": "python",
   "name": "python3"
  },
  "language_info": {
   "codemirror_mode": {
    "name": "ipython",
    "version": 3
   },
   "file_extension": ".py",
   "mimetype": "text/x-python",
   "name": "python",
   "nbconvert_exporter": "python",
   "pygments_lexer": "ipython3",
   "version": "3.9.12"
  }
 },
 "nbformat": 4,
 "nbformat_minor": 2
}
