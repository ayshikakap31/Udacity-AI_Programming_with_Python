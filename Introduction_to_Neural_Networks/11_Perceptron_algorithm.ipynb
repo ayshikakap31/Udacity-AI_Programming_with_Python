{
  "nbformat": 4,
  "nbformat_minor": 0,
  "metadata": {
    "colab": {
      "provenance": []
    },
    "kernelspec": {
      "name": "python3",
      "display_name": "Python 3"
    },
    "language_info": {
      "name": "python"
    }
  },
  "cells": [
    {
      "cell_type": "code",
      "execution_count": 15,
      "metadata": {
        "id": "dTLu_NXEKEz1"
      },
      "outputs": [],
      "source": [
        "import numpy as np\n",
        "import pandas as pd\n",
        "# Setting the random seed, feel free to change it and see different solutions.\n",
        "np.random.seed(42)\n",
        "\n",
        "def stepFunction(t):\n",
        "    if t >= 0:\n",
        "        return 1\n",
        "    return 0\n",
        "\n",
        "def prediction(X, W, b):\n",
        "    return stepFunction((np.matmul(X,W)+b)[0])\n",
        "\n",
        "# TODO: Fill in the code below to implement the perceptron trick.\n",
        "# The function should receive as inputs the data X, the labels y,\n",
        "# the weights W (as an array), and the bias b,\n",
        "# update the weights and bias W, b, according to the perceptron algorithm,\n",
        "# and return W and b.\n",
        "def perceptronStep(X, y, W, b, learn_rate = 0.01):\n",
        "    # Fill in code\n",
        "    for temp in range(len(X)):\n",
        "      predicted_output = prediction(X[temp],W,b)\n",
        "      #If the point is misclassified and belongs to positive area\n",
        "      if (y[temp] != predicted_output) and (predicted_output == 0):\n",
        "        for i in range(len(X[temp])):\n",
        "          W[i] += X[temp][i]*learn_rate\n",
        "          b += learn_rate\n",
        "      elif (y[temp] != predicted_output) and (predicted_output == 1):\n",
        "        for i in range(len(X[temp])):\n",
        "          W[i] -= X[temp][i]*learn_rate\n",
        "          b -= learn_rate\n",
        "    return W, b\n",
        "\n",
        "# This function runs the perceptron algorithm repeatedly on the dataset,\n",
        "# and returns a few of the boundary lines obtained in the iterations,\n",
        "# for plotting purposes.\n",
        "# Feel free to play with the learning rate and the num_epochs,\n",
        "# and see your results plotted below.\n",
        "def trainPerceptronAlgorithm(X, y, learn_rate = 0.01, num_epochs = 25):\n",
        "    x_min, x_max = min(X.T[0]), max(X.T[0])\n",
        "    y_min, y_max = min(X.T[1]), max(X.T[1])\n",
        "    W = np.array(np.random.rand(2,1))\n",
        "    b = np.random.rand(1)[0] + x_max\n",
        "    # These are the solution lines that get plotted below.\n",
        "    boundary_lines = []\n",
        "    for i in range(num_epochs):\n",
        "        # In each epoch, we apply the perceptron step.\n",
        "        W, b = perceptronStep(X, y, W, b, learn_rate)\n",
        "        boundary_lines.append((-W[0]/W[1], -b/W[1]))\n",
        "    return boundary_lines"
      ]
    },
    {
      "cell_type": "code",
      "source": [
        "if __name__ == \"__main__\" :\n",
        "    # perform perceptron\n",
        "    data = np.loadtxt( '/content/data.csv' , delimiter = ',' )\n",
        "    print ( \"data.type:\" , type (data),data.reshape)\n",
        "    X = data[:,:- 1 ]\n",
        "    y = data[:,- 1 ]\n",
        "    regression_coef = trainPerceptronAlgorithm(X, y) #Return multiple sets of coefficients in the training process\n",
        "\n",
        "    # plot the results\n",
        "    import matplotlib.pyplot as plt\n",
        "\n",
        "    plt.figure()\n",
        "    X_ = data[:, 0 ]\n",
        "    y_ = data[:, 1 ]\n",
        "\n",
        "    data1 = [x for x in data if x[ 2 ] > 0 ]\n",
        "    data0 = [x for x in data if x[ 2 ] == 0 ]\n",
        "\n",
        "    X_min = X_.min ( )\n",
        "    X_max = X_.max ( )\n",
        "\n",
        "    data0_ = np.array(data0)\n",
        "    X0_ = data0_[:, 0 ]\n",
        "    Y0_ = data0_[:, 1 ]\n",
        "    data1_ = np.array(data1)\n",
        "    X1_ = data1_[:, 0 ]\n",
        "    Y1_ = data1_[:, 1 ]\n",
        "\n",
        "\n",
        "    plt.scatter(X1_, Y1_, zorder = 3 , c= 'b' )\n",
        "    plt.scatter(X0_, Y0_, zorder = 3 , c= 'r' )\n",
        "\n",
        "\n",
        "\n",
        "    counter = len (regression_coef)\n",
        "    #print(regression_coef)\n",
        "    W, b = regression_coef[- 1 ]\n",
        "\n",
        "    plt.plot([X_min, X_max],[X_min * W + b, X_max * W + b], color=[ 0.5 , 0.5 , 0.5 ])\n",
        ""
      ],
      "metadata": {
        "colab": {
          "base_uri": "https://localhost:8080/",
          "height": 447
        },
        "id": "W0G8y7EEP3C4",
        "outputId": "0d826522-5e7e-4f7a-aa4a-e357b1a55b74"
      },
      "execution_count": 17,
      "outputs": [
        {
          "output_type": "stream",
          "name": "stdout",
          "text": [
            "data.type: <class 'numpy.ndarray'> <built-in method reshape of numpy.ndarray object at 0x7939f937b4b0>\n"
          ]
        },
        {
          "output_type": "display_data",
          "data": {
            "text/plain": [
              "<Figure size 640x480 with 1 Axes>"
            ],
            "image/png": "[encoded data removed]"
          },
          "metadata": {}
        }
      ]
    }
  ]
}